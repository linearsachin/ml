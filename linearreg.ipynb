{
 "cells": [
  {
   "cell_type": "code",
   "execution_count": 1,
   "metadata": {},
   "outputs": [],
   "source": [
    "import numpy as np\n",
    "import pandas as pd\n",
    "import matplotlib.pyplot as plt"
   ]
  },
  {
   "cell_type": "code",
   "execution_count": 2,
   "metadata": {},
   "outputs": [],
   "source": [
    "def cost(X,y,theta):\n",
    "    m = len(X)\n",
    "    h_x  = X@theta\n",
    "    J = np.sum((h_x - y)**2) / (2 * m)\n",
    "    return J\n"
   ]
  },
  {
   "cell_type": "code",
   "execution_count": 3,
   "metadata": {},
   "outputs": [],
   "source": [
    "def gradientDescentFor(X, y, theta, alpha,num_iters):\n",
    "    m = len(y)\n",
    "    J_history = np.zeros((num_iters, 1));\n",
    "    for i in range(num_iters):\n",
    "        error= []\n",
    "        for x,targtt in zip(X,y):\n",
    "            error.append(np.sum(x*theta)- targtt)\n",
    "        cal_err=np.transpose(X) @ error\n",
    "        for i in range(len(theta)):\n",
    "            theta[i] = theta[i] - ((alpha/m)*(np.sum(cal_err[i],axis=0)))\n",
    "        J_history[i] = cost(X, y, theta)\n",
    "        print(J_history[i])\n",
    "    return theta,J_history"
   ]
  },
  {
   "cell_type": "code",
   "execution_count": 4,
   "metadata": {},
   "outputs": [],
   "source": [
    "def gradientDescent(X, y, theta, alpha,num_iters):\n",
    "    m=len(y)\n",
    "    J_history = np.zeros((num_iters, 1));\n",
    "    for i in range(num_iters):\n",
    "        error = (X @ theta) - y\n",
    "        theta = theta - ((alpha/m) * (np.transpose(X)@error))\n",
    "        J_history[i] = cost(X, y, theta)\n",
    "    return theta, J_history"
   ]
  },
  {
   "cell_type": "code",
   "execution_count": 5,
   "metadata": {},
   "outputs": [],
   "source": [
    "def plotData(X,y):\n",
    "    plt.scatter(X,y,marker='x')\n",
    "    plt.show()\n"
   ]
  },
  {
   "cell_type": "code",
   "execution_count": 6,
   "metadata": {},
   "outputs": [],
   "source": [
    "def plotDataPredictions(X,y,theta):\n",
    "    m = X.shape[0]\n",
    "    Xp = np.hstack((np.ones((m,1)),X))\n",
    "    predictions = Xp @ theta\n",
    "    plt.scatter(X,y,marker='x')\n",
    "    plt.plot(X,predictions)\n",
    "    plt.show()\n"
   ]
  },
  {
   "cell_type": "code",
   "execution_count": 13,
   "metadata": {},
   "outputs": [
    {
     "data": {
      "image/png": "[encoded data removed]",
      "text/plain": [
       "<Figure size 432x288 with 1 Axes>"
      ]
     },
     "metadata": {
      "needs_background": "light"
     },
     "output_type": "display_data"
    }
   ],
   "source": [
    "df = pd.read_csv('ex1data1.txt')\n",
    "y = df.y.values\n",
    "X1 = df.drop(columns = ['y'])\n",
    "X1.insert(0,'X0',1) #with X0\n",
    "X =X1\n",
    "plotData(Xplot,y)"
   ]
  },
  {
   "cell_type": "code",
   "execution_count": 8,
   "metadata": {},
   "outputs": [],
   "source": [
    "m = X.shape[1]\n",
    "initial_theta = np.zeros(m)\n",
    "alpha = 0.01\n",
    "num_iters = 1000\n",
    "result_theta, J_his = gradientDescent(X,y,initial_theta,alpha,num_iters)\n",
    "cost_ = cost(X,y,initial_theta)"
   ]
  },
  {
   "cell_type": "code",
   "execution_count": 12,
   "metadata": {},
   "outputs": [
    {
     "data": {
      "image/png": "[encoded data removed]",
      "text/plain": [
       "<Figure size 432x288 with 1 Axes>"
      ]
     },
     "metadata": {
      "needs_background": "light"
     },
     "output_type": "display_data"
    }
   ],
   "source": [
    "Xplot = df.drop(columns = ['y'])\n",
    "plotDataPredictions(Xplot,y,result_theta)"
   ]
  },
  {
   "cell_type": "code",
   "execution_count": null,
   "metadata": {},
   "outputs": [],
   "source": []
  }
 ],
 "metadata": {
  "kernelspec": {
   "display_name": "Python 3",
   "language": "python",
   "name": "python3"
  },
  "language_info": {
   "codemirror_mode": {
    "name": "ipython",
    "version": 3
   },
   "file_extension": ".py",
   "mimetype": "text/x-python",
   "name": "python",
   "nbconvert_exporter": "python",
   "pygments_lexer": "ipython3",
   "version": "3.7.6"
  }
 },
 "nbformat": 4,
 "nbformat_minor": 4
}
